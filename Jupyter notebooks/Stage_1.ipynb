{
  "nbformat": 4,
  "nbformat_minor": 0,
  "metadata": {
    "colab": {
      "name": "Diana_Review_Extraction",
      "provenance": [],
      "collapsed_sections": []
    },
    "kernelspec": {
      "name": "python3",
      "display_name": "Python 3"
    }
  },
  "cells": [
    {
      "cell_type": "code",
      "metadata": {
        "id": "dioFFkMHed5R",
        "colab_type": "code",
        "colab": {
          "base_uri": "https://localhost:8080/",
          "height": 54
        },
        "outputId": "42e42d2f-db97-4df1-b1fa-de565b17538b"
      },
      "source": [
        "import spacy.cli\n",
        "spacy.cli.download(\"en_core_web_lg\")\n",
        "import json\n",
        "import spacy\n",
        "import re\n",
        "from spacy import displacy\n",
        "from google.colab import files\n",
        "from IPython.core.display import display, HTML\n",
        "from datetime import datetime\n",
        "import time"
      ],
      "execution_count": null,
      "outputs": [
        {
          "output_type": "stream",
          "text": [
            "\u001b[38;5;2m✔ Download and installation successful\u001b[0m\n",
            "You can now load the model via spacy.load('en_core_web_lg')\n"
          ],
          "name": "stdout"
        }
      ]
    },
    {
      "cell_type": "code",
      "metadata": {
        "id": "5PPumGr3etdO",
        "colab_type": "code",
        "colab": {
          "resources": {
            "http://localhost:8080/nbextensions/google.colab/files.js": {
              "data": "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",
              "ok": true,
              "headers": [
                [
                  "content-type",
                  "application/javascript"
                ]
              ],
              "status": 200,
              "status_text": "OK"
            }
          },
          "base_uri": "https://localhost:8080/",
          "height": 49
        },
        "outputId": "30860b84-48ec-43a9-bac9-99d0099c88e3"
      },
      "source": [
        "uploaded = files.upload()\n",
        "nlp = spacy.load(\"en_core_web_lg\")"
      ],
      "execution_count": null,
      "outputs": [
        {
          "output_type": "display_data",
          "data": {
            "text/html": [
              "\n",
              "     <input type=\"file\" id=\"files-c9210b20-f791-4dcb-849e-89a9dd2bb8a2\" name=\"files[]\" multiple disabled\n",
              "        style=\"border:none\" />\n",
              "     <output id=\"result-c9210b20-f791-4dcb-849e-89a9dd2bb8a2\">\n",
              "      Upload widget is only available when the cell has been executed in the\n",
              "      current browser session. Please rerun this cell to enable.\n",
              "      </output>\n",
              "      <script src=\"/nbextensions/google.colab/files.js\"></script> "
            ],
            "text/plain": [
              "<IPython.core.display.HTML object>"
            ]
          },
          "metadata": {
            "tags": []
          }
        }
      ]
    },
    {
      "cell_type": "code",
      "metadata": {
        "id": "nep3Nv-Heyl5",
        "colab_type": "code",
        "colab": {}
      },
      "source": [
        "file = open(\"nordstrom-t-shirt.json\", \"r\")\n",
        "data = json.load(file)"
      ],
      "execution_count": null,
      "outputs": []
    },
    {
      "cell_type": "code",
      "metadata": {
        "id": "XjlegriDe2Q_",
        "colab_type": "code",
        "colab": {}
      },
      "source": [
        "# Replace the synonyms of shirt with shirt\n",
        "# Sanitize input from \"...\" kind of symbols\n",
        "\n",
        "pattern_l = re.compile(\"(top)|(t-?\\s?shirt)|(tee)|(polo)\")\n",
        "pattern_u = re.compile(\"(Top)|(T-?\\s?shirt)|(Tee)|(Polo)\")\n",
        "pattern_stop = re.compile(\"\\.\\.+\")\n",
        "\n",
        "def text_sanitizer(text):\n",
        "    text = pattern_l.sub(\"shirt\", text)\n",
        "    text = pattern_u.sub(\"Shirt\", text)\n",
        "    text = pattern_stop.sub(\".\", text)\n",
        "    return text"
      ],
      "execution_count": null,
      "outputs": []
    },
    {
      "cell_type": "code",
      "metadata": {
        "id": "0bvdr8WSgmSK",
        "colab_type": "code",
        "colab": {}
      },
      "source": [
        "# To get the negation of an emotion PART\n",
        "def find_neg_in_children(children):\n",
        "    for child in children:\n",
        "        if child.dep_ == \"neg\" :\n",
        "            return child\n",
        "        elif child.dep_ != \"conj\":\n",
        "            # Often it happens PART <- ADV (not conjugated) <- ADJ,\n",
        "            # handle these cases\n",
        "            neg = find_neg_in_children(child.lefts)\n",
        "            if neg is not None:\n",
        "                return neg"
      ],
      "execution_count": null,
      "outputs": []
    },
    {
      "cell_type": "code",
      "metadata": {
        "id": "UMyZCgBpiM2Z",
        "colab_type": "code",
        "colab": {}
      },
      "source": [
        "# To find all adjectives in the child (ADJ)+\n",
        "\n",
        "def find_adj_in_children(children) :\n",
        "    # Adjs under current verb\n",
        "    adjs = []\n",
        "\n",
        "    for child in children :\n",
        "        if child.pos_ == \"ADJ\" :\n",
        "            # Check for negation\n",
        "            neg = find_neg_in_children(child.lefts)\n",
        "\n",
        "            # No neg child? Recheck!\n",
        "            if neg is None and child.head.pos_ == \"AUX\" and child.head:\n",
        "                neg = find_neg_in_children(child.head.rights)\n",
        "            \n",
        "            adjs.append((neg, child))\n",
        "    \n",
        "    # Now recurse again to find associated adjectives\n",
        "    more_adjs = []\n",
        "\n",
        "    for adj in adjs:\n",
        "        more_adjs += find_adj_in_children(adj[1].children)\n",
        "    \n",
        "    return adjs + more_adjs"
      ],
      "execution_count": null,
      "outputs": []
    },
    {
      "cell_type": "code",
      "metadata": {
        "id": "oWG6eTKKETik",
        "colab_type": "code",
        "colab": {}
      },
      "source": [
        "# form the adjectives from the core and the part\n",
        "def form_adj_texts(adjs) :\n",
        "    adj_texts = []\n",
        "\n",
        "    for adj in adjs :\n",
        "        adj_text = \"\"\n",
        "        if adj[0] is not None :\n",
        "            adj_text += adj[0].text + \" \"\n",
        "        adj_text += adj[1].text\n",
        "        adj_texts.append(adj_text)\n",
        "    \n",
        "    return adj_texts"
      ],
      "execution_count": null,
      "outputs": []
    },
    {
      "cell_type": "code",
      "metadata": {
        "id": "ZzcnLzLRlS0m",
        "colab_type": "code",
        "colab": {}
      },
      "source": [
        "# find the nearest Noun in the token children NOUN\n",
        "def find_noun_in_children(children) :\n",
        "    for child in children :\n",
        "        if child.pos_ == \"NOUN\" or child.pos_ == \"PROPN\":\n",
        "            return child            "
      ],
      "execution_count": null,
      "outputs": []
    },
    {
      "cell_type": "code",
      "metadata": {
        "id": "s3T9mZ1aDFYZ",
        "colab_type": "code",
        "colab": {}
      },
      "source": [
        "# find conjugate nouns in the children (NOUN)+ ->\n",
        "def find_conj_noun_in_children(children) :\n",
        "    nouns = []\n",
        "    for child in children :\n",
        "        if child.pos_ == \"NOUN\" and child.dep_ == \"conj\" :\n",
        "            nouns.append(child)\n",
        "    \n",
        "    more_nouns = []\n",
        "    for noun in nouns :\n",
        "        more_nouns += find_conj_noun_in_children(noun.rights)\n",
        "    \n",
        "    return nouns + more_nouns"
      ],
      "execution_count": null,
      "outputs": []
    },
    {
      "cell_type": "code",
      "metadata": {
        "id": "BSpp5i20eNEQ",
        "colab_type": "code",
        "colab": {}
      },
      "source": [
        "# To form compound nouns, get the compound nouns (NOUN)+ <-\n",
        "def find_comp_noun_in_head(head) :\n",
        "    nouns = []\n",
        "    while head.pos_ == \"NOUN\" or head.pos_ == \"PROPN\" :\n",
        "        nouns.append(head)\n",
        "        if head.head == head:\n",
        "            break\n",
        "        head = head.head\n",
        "        \n",
        "    return nouns"
      ],
      "execution_count": null,
      "outputs": []
    },
    {
      "cell_type": "code",
      "metadata": {
        "id": "G9PmbiEdmpYQ",
        "colab_type": "code",
        "colab": {}
      },
      "source": [
        "# Find adverbs in the children ADV\n",
        "def find_adv_in_children(children) :\n",
        "    for child in children :\n",
        "        if child.pos_ == \"ADV\" :\n",
        "            return child"
      ],
      "execution_count": null,
      "outputs": []
    },
    {
      "cell_type": "code",
      "metadata": {
        "id": "UGVLg9cyvpvN",
        "colab_type": "code",
        "colab": {}
      },
      "source": [
        "# Find pronouns in the children PRON\n",
        "def find_pron_in_children(children) :\n",
        "    for child in children :\n",
        "        if child.pos_ == \"PRON\" :\n",
        "            return child"
      ],
      "execution_count": null,
      "outputs": []
    },
    {
      "cell_type": "code",
      "metadata": {
        "id": "dO-cXRuDwSvi",
        "colab_type": "code",
        "colab": {}
      },
      "source": [
        "# Find determiners in the children DET\n",
        "def find_det_in_children(children) :\n",
        "    for child in children :\n",
        "        if child.pos_ == \"DET\" :\n",
        "            return child"
      ],
      "execution_count": null,
      "outputs": []
    },
    {
      "cell_type": "code",
      "metadata": {
        "id": "plgtazMskTju",
        "colab_type": "code",
        "colab": {}
      },
      "source": [
        "# Find a phrase matching the rule PRON <- VERB -> ADV\n",
        "def rule_1(verb) :\n",
        "    if verb.pos_ == \"VERB\":\n",
        "        pron = find_pron_in_children(verb.lefts)\n",
        "        if pron is None:\n",
        "            return None\n",
        "\n",
        "        if pron.text.lower().rstrip() != \"it\" :\n",
        "            return None\n",
        "\n",
        "        adv = find_adv_in_children(verb.rights)\n",
        "        if adv is None :\n",
        "            return None\n",
        "        part = find_neg_in_children(adv.lefts)\n",
        "        text = \"\"\n",
        "        if part is not None:\n",
        "            text = part.text\n",
        "        \n",
        "        keyword = {\n",
        "            \"aspect\"  : \"shirt\",\n",
        "            \"opinion\" : [verb.text + \" \" + text + \" \" + adv.text] \n",
        "        }\n",
        "\n",
        "        return keyword"
      ],
      "execution_count": null,
      "outputs": []
    },
    {
      "cell_type": "code",
      "metadata": {
        "id": "8Sme8ZMknjHh",
        "colab_type": "code",
        "colab": {}
      },
      "source": [
        "# Find a phrase matching the rule PRON <- (VERB|AUX) -> (ADJ)+\n",
        "def rule_2(verb) :\n",
        "    if verb.pos_ == \"VERB\"  or verb.pos_ == \"AUX\" :\n",
        "        pron = find_pron_in_children(verb.lefts)\n",
        "        if pron is None:\n",
        "            return None\n",
        "\n",
        "        adjs = find_adj_in_children(token.rights)\n",
        "        if len(adjs) == 0 :\n",
        "            return None\n",
        "\n",
        "        text = pron.text.lower().rstrip()\n",
        "\n",
        "        if text == \"it\" or text == \"they\":\n",
        "            text = \"shirt\"\n",
        "        else :\n",
        "            return None\n",
        "\n",
        "        keyword = {\n",
        "            \"aspect\" : text,\n",
        "            \"opinion\" : form_adj_texts(adjs)\n",
        "        }\n",
        "\n",
        "        if verb.pos_ == \"VERB\" :\n",
        "            for i in range(len(keyword[\"opinion\"])) :\n",
        "                keyword[\"opinion\"][i] = verb.text + \" \" +  keyword[\"opinion\"][i]\n",
        "        \n",
        "        return keyword"
      ],
      "execution_count": null,
      "outputs": []
    },
    {
      "cell_type": "code",
      "metadata": {
        "id": "XwAie3bUpamZ",
        "colab_type": "code",
        "colab": {}
      },
      "source": [
        "# Find the phrases matching the rule (NOUN)+ <- (AUX | VERB) -> (ADJ)+\n",
        "def rule_3(verb) :\n",
        "    if verb.pos_ == \"AUX\" or verb.pos_ == \"VERB\" and verb.pos_ == \"ROOT\" :\n",
        "        noun = find_noun_in_children(verb.lefts)\n",
        "        if noun is None :\n",
        "            return None\n",
        "\n",
        "        nouns = []\n",
        "        nouns.append(noun)\n",
        "\n",
        "        nouns += find_conj_noun_in_children(noun.rights)\n",
        "        \n",
        "        adjs = find_adj_in_children(verb.rights)\n",
        "        if len(adjs) == 0 :\n",
        "            return None\n",
        "        \n",
        "        keywords = []\n",
        "        adj_texts = form_adj_texts(adjs)\n",
        "\n",
        "        if verb.pos_ == \"VERB\" :\n",
        "            for i in range(len(adj_texts)) :\n",
        "                adj_texts[i] = verb.text + \" \" + adj_texts[i]\n",
        "\n",
        "        for noun in nouns:\n",
        "            keyword = {\n",
        "                \"aspect\" : noun.text,\n",
        "                \"opinion\" : adj_texts\n",
        "            }\n",
        "\n",
        "            keywords.append(keyword)\n",
        "        \n",
        "        return keywords"
      ],
      "execution_count": null,
      "outputs": []
    },
    {
      "cell_type": "code",
      "metadata": {
        "id": "1ihLj6OBtRwM",
        "colab_type": "code",
        "colab": {}
      },
      "source": [
        "# Find a phrase matching the rule NOUN <- AUX -> NOUN <- ADJ\n",
        "def rule_4(aux):\n",
        "    if aux.pos_ == \"AUX\" :\n",
        "        noun = find_noun_in_children(aux.lefts)\n",
        "        if noun is None:\n",
        "            return noun\n",
        "\n",
        "        opine_noun = find_noun_in_children(aux.rights)\n",
        "        if opine_noun is None:\n",
        "            return\n",
        "        \n",
        "        adjs = find_adj_in_children(opine_noun.lefts)\n",
        "        if len(adjs) == 0:\n",
        "            return None\n",
        "\n",
        "        adj_texts = form_adj_texts(adjs)\n",
        "        for i in range(len(adj_texts)):\n",
        "            adj_texts[i] += \" \" + opine_noun.text\n",
        "\n",
        "        keyword = {\n",
        "            \"aspect\" : noun.text,\n",
        "            \"opinion\" : adj_texts\n",
        "        }\n",
        "        \n",
        "        return keyword"
      ],
      "execution_count": null,
      "outputs": []
    },
    {
      "cell_type": "code",
      "metadata": {
        "id": "BpAsLkg5KJuF",
        "colab_type": "code",
        "colab": {}
      },
      "source": [
        "# Find the phrases matching the rule ADJ <- NOUN\n",
        "def rule_5(noun) :\n",
        "    valid_deps  = {\"ROOT\", \"attr\", \"nsubj\"}\n",
        "    if noun.pos_ == \"NOUN\" and noun.dep_ in valid_deps :\n",
        "        adjs = find_adj_in_children(noun.lefts)\n",
        "        if len(adjs) == 0 :\n",
        "            return None\n",
        "        \n",
        "        keyword = {\n",
        "            \"aspect\" : noun.text,\n",
        "            \"opinion\" : form_adj_texts(adjs)\n",
        "        }\n",
        "\n",
        "        return keyword"
      ],
      "execution_count": null,
      "outputs": []
    },
    {
      "cell_type": "code",
      "metadata": {
        "id": "aNOdgYgmPHvS",
        "colab_type": "code",
        "colab": {}
      },
      "source": [
        "# Find adjectives in sentences containing only adjectives (ADJ)+\n",
        "def rule_6 (adj) :\n",
        "    if adj.pos_ == \"ADJ\" and adj.dep_ == \"ROOT\" :\n",
        "        adjs = find_adj_in_children(adj.children)\n",
        "        part = find_neg_in_children(adj.children)\n",
        "        adjs.append((part, adj))\n",
        "\n",
        "        if len(adjs) == 0:\n",
        "            return None\n",
        "        \n",
        "        keyword = {\n",
        "            \"aspect\" : \"shirt\",\n",
        "            \"opinion\" : form_adj_texts(adjs)\n",
        "        }\n",
        "\n",
        "        return keyword"
      ],
      "execution_count": null,
      "outputs": []
    },
    {
      "cell_type": "code",
      "metadata": {
        "id": "Wnne7jhgfAz6",
        "colab_type": "code",
        "colab": {}
      },
      "source": [
        "# Find the phrases matching the rule  (ADJ)+ <- (NOUN)+\n",
        "def rule_7(noun) :\n",
        "    if noun.pos_ == \"NOUN\" and noun.dep_ == \"compound\" :\n",
        "        adjs = find_adj_in_children(noun.lefts)\n",
        "        if len(adjs) == 0 :\n",
        "            return None\n",
        "        \n",
        "        n_heads = find_comp_noun_in_head(noun.head)\n",
        "        n_heads.insert(0, noun)\n",
        "        text = n_heads[-1].text\n",
        "        n_heads = n_heads[:-1]\n",
        "        opinion = form_adj_texts(adjs)[0]\n",
        "        for n_head in n_heads:\n",
        "            opinion += \" \" + n_head.text\n",
        "\n",
        "        keyword = {\n",
        "            \"aspect\" : text,\n",
        "            \"opinion\" : [opinion]\n",
        "        }\n",
        "\n",
        "        return keyword"
      ],
      "execution_count": null,
      "outputs": []
    },
    {
      "cell_type": "code",
      "metadata": {
        "id": "bYb23ypovKzC",
        "colab_type": "code",
        "colab": {}
      },
      "source": [
        "# Find the phrases matching the rule DET <- (VERB|AUX) -> (ADJ)+\n",
        "def rule_8(verb) :\n",
        "    if verb.pos_ == \"VERB\"  or verb.pos_ == \"AUX\" :\n",
        "        det = find_det_in_children(verb.lefts)\n",
        "        if det is None:\n",
        "            return None\n",
        "\n",
        "        adjs = find_adj_in_children(token.rights)\n",
        "        if len(adjs) == 0 :\n",
        "            return None\n",
        "\n",
        "        text = det.text.lower().rstrip()\n",
        "\n",
        "        if text == \"this\":\n",
        "            text = \"shirt\"\n",
        "        else :\n",
        "            return None\n",
        "\n",
        "        keyword = {\n",
        "            \"aspect\" : text,\n",
        "            \"opinion\" : form_adj_texts(adjs)\n",
        "        }\n",
        "\n",
        "        if verb.pos_ == \"VERB\" :\n",
        "            for i in range(len(keyword[\"opinion\"])) :\n",
        "                keyword[\"opinion\"][i] = verb.text + \" \" +  keyword[\"opinion\"][i]\n",
        "        \n",
        "        return keyword"
      ],
      "execution_count": null,
      "outputs": []
    },
    {
      "cell_type": "code",
      "metadata": {
        "id": "-yC-MMMY6oKM",
        "colab_type": "code",
        "colab": {}
      },
      "source": [
        "# Find the phrases matching the rule  PRON <- AUX -> NOUN <- ADJ\n",
        "def rule_9(aux):\n",
        "    if aux.pos_ == \"AUX\" :\n",
        "        pron = find_pron_in_children(aux.lefts)\n",
        "        if pron is None:\n",
        "            return None\n",
        "\n",
        "        text = pron.text.lower().rstrip() \n",
        "        if text == \"it\" :\n",
        "            text = \"shirt\"\n",
        "        else :\n",
        "            return None\n",
        "\n",
        "        opine_noun = find_noun_in_children(aux.rights)\n",
        "        if opine_noun is None or opine_noun.dep_ == \"attr\":\n",
        "            return None\n",
        "        \n",
        "        adjs = find_adj_in_children(opine_noun.lefts)\n",
        "        if len(adjs) == 0:\n",
        "            return None\n",
        "\n",
        "        adj_texts = form_adj_texts(adjs)\n",
        "        for i in range(len(adj_texts)):\n",
        "            adj_texts[i] += \" \" + opine_noun.text\n",
        "\n",
        "        keyword = {\n",
        "            \"aspect\" : text,\n",
        "            \"opinion\" : adj_texts\n",
        "        }\n",
        "        \n",
        "        return keyword"
      ],
      "execution_count": null,
      "outputs": []
    },
    {
      "cell_type": "code",
      "metadata": {
        "id": "DtandIAC5wTN",
        "colab_type": "code",
        "colab": {}
      },
      "source": [
        "pattern_sept = re.compile(\"Sept\")\n",
        "def sanitize_date(date) :\n",
        "    date = pattern_sept.sub(\"September\", date)\n",
        "    return date"
      ],
      "execution_count": null,
      "outputs": []
    },
    {
      "cell_type": "code",
      "metadata": {
        "id": "2k_qRHLr-o_Q",
        "colab_type": "code",
        "colab": {}
      },
      "source": [
        "def append_keyword(keywords, keyword) :\n",
        "    aspect = keyword[\"aspect\"]\n",
        "    if aspect not in keywords:\n",
        "        keywords[aspect] = set()\n",
        "    for op in keyword[\"opinion\"] :\n",
        "        keywords[aspect].add(op.lower())"
      ],
      "execution_count": null,
      "outputs": []
    },
    {
      "cell_type": "code",
      "metadata": {
        "id": "LDRWLP1eqk7y",
        "colab_type": "code",
        "colab": {}
      },
      "source": [
        "rules = [rule_1, rule_2, rule_3, rule_4, rule_5, rule_6, rule_7, rule_8, rule_9]\n",
        "\n",
        "# List holding list 1 json\n",
        "stage_1_json = []\n",
        "\n",
        "for item in data:\n",
        "    #Copy all the json except for the comments\n",
        "    item_new = {}\n",
        "    item_new[\"id\"] = item[\"id\"]\n",
        "    item_new[\"title\"] = item[\"title\"]\n",
        "    item_new[\"details\"] = item[\"details\"]\n",
        "    item_new[\"rating_div\"] = item[\"rating_div\"]\n",
        "    item_new[\"image\"] = item[\"image\"]\n",
        "\n",
        "    # Note the first and last date of comments\n",
        "    dates = []\n",
        "    for comment in item[\"comments\"] :\n",
        "        date = sanitize_date(comment[\"date\"])\n",
        "        try :\n",
        "            date = datetime.strptime(date, \"%b %d, %Y\")\n",
        "        except :\n",
        "            date = datetime.strptime(date, \"%B %d, %Y\")\n",
        "        date_to_sec = time.mktime(date.timetuple())\n",
        "        dates.append(date_to_sec)\n",
        "\n",
        "    if len(dates) != 0:\n",
        "        item_new[\"oldest_rev\"] = min(dates)\n",
        "        item_new[\"newest_rev\"] = max(dates)\n",
        "    else :\n",
        "        item_new[\"oldest_rev\"] = None\n",
        "        item_new[\"newest_rev\"] = None\n",
        "\n",
        "    keywords = {}\n",
        "    \n",
        "    for comment in item[\"comments\"]:\n",
        "        text = text_sanitizer(comment[\"body\"])\n",
        "        doc = nlp(text)\n",
        "\n",
        "        for token in doc:\n",
        "            for rule in rules :\n",
        "                if rule == rule_3:\n",
        "                    keyword_list = rule(token)\n",
        "                    if keyword_list is not None:\n",
        "                        for keyword in keyword_list:\n",
        "                            append_keyword(keywords, keyword)\n",
        "                else :\n",
        "                    keyword = rule(token)\n",
        "                    if keyword is not None:\n",
        "                        append_keyword(keywords, keyword)\n",
        "\n",
        "    item_new[\"rev_summ\"] = {}\n",
        "\n",
        "    for keyword in keywords:\n",
        "        item_new[\"rev_summ\"][keyword] = []\n",
        "        for opinion in keywords[keyword] :\n",
        "            item_new[\"rev_summ\"][keyword].append(opinion)\n",
        "    \n",
        "    stage_1_json.append(item_new)\n",
        "\n",
        "# Write the json to a file\n",
        "file = open(\"stage_1.json\", \"w\")\n",
        "json.dump(stage_1_json, file, indent=4)\n",
        "file.close()"
      ],
      "execution_count": null,
      "outputs": []
    },
    {
      "cell_type": "code",
      "metadata": {
        "id": "knZPC3Xa2Tce",
        "colab_type": "code",
        "colab": {
          "base_uri": "https://localhost:8080/",
          "height": 17
        },
        "outputId": "c4596991-47b2-4d61-a8d6-296bf9ea9d7b"
      },
      "source": [
        "files.download(\"stage_1.json\")"
      ],
      "execution_count": null,
      "outputs": [
        {
          "output_type": "display_data",
          "data": {
            "application/javascript": [
              "\n",
              "    async function download(id, filename, size) {\n",
              "      if (!google.colab.kernel.accessAllowed) {\n",
              "        return;\n",
              "      }\n",
              "      const div = document.createElement('div');\n",
              "      const label = document.createElement('label');\n",
              "      label.textContent = `Downloading \"${filename}\": `;\n",
              "      div.appendChild(label);\n",
              "      const progress = document.createElement('progress');\n",
              "      progress.max = size;\n",
              "      div.appendChild(progress);\n",
              "      document.body.appendChild(div);\n",
              "\n",
              "      const buffers = [];\n",
              "      let downloaded = 0;\n",
              "\n",
              "      const channel = await google.colab.kernel.comms.open(id);\n",
              "      // Send a message to notify the kernel that we're ready.\n",
              "      channel.send({})\n",
              "\n",
              "      for await (const message of channel.messages) {\n",
              "        // Send a message to notify the kernel that we're ready.\n",
              "        channel.send({})\n",
              "        if (message.buffers) {\n",
              "          for (const buffer of message.buffers) {\n",
              "            buffers.push(buffer);\n",
              "            downloaded += buffer.byteLength;\n",
              "            progress.value = downloaded;\n",
              "          }\n",
              "        }\n",
              "      }\n",
              "      const blob = new Blob(buffers, {type: 'application/binary'});\n",
              "      const a = document.createElement('a');\n",
              "      a.href = window.URL.createObjectURL(blob);\n",
              "      a.download = filename;\n",
              "      div.appendChild(a);\n",
              "      a.click();\n",
              "      div.remove();\n",
              "    }\n",
              "  "
            ],
            "text/plain": [
              "<IPython.core.display.Javascript object>"
            ]
          },
          "metadata": {
            "tags": []
          }
        },
        {
          "output_type": "display_data",
          "data": {
            "application/javascript": [
              "download(\"download_60cc2380-396e-4447-8696-e82003de5210\", \"stage_1.json\", 167886)"
            ],
            "text/plain": [
              "<IPython.core.display.Javascript object>"
            ]
          },
          "metadata": {
            "tags": []
          }
        }
      ]
    },
    {
      "cell_type": "code",
      "metadata": {
        "id": "sstz5OTVLOs9",
        "colab_type": "code",
        "colab": {}
      },
      "source": [
        ""
      ],
      "execution_count": null,
      "outputs": []
    }
  ]
}