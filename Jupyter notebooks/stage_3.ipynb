{
  "nbformat": 4,
  "nbformat_minor": 0,
  "metadata": {
    "colab": {
      "name": "stage_3.ipynb",
      "provenance": []
    },
    "kernelspec": {
      "name": "python3",
      "display_name": "Python 3"
    }
  },
  "cells": [
    {
      "cell_type": "code",
      "metadata": {
        "id": "MMCQPExGOSwl",
        "colab_type": "code",
        "colab": {}
      },
      "source": [
        "#global imports\n",
        "import tensorflow as tf\n",
        "import json\n",
        "import numpy as np \n",
        "import PIL.Image as Image"
      ],
      "execution_count": null,
      "outputs": []
    },
    {
      "cell_type": "code",
      "metadata": {
        "id": "oVGCPFWQPmkr",
        "colab_type": "code",
        "colab": {}
      },
      "source": [
        "root_dir = '/content/drive/My Drive/' #directory name of there the project is stored in your local device\n"
      ],
      "execution_count": null,
      "outputs": []
    },
    {
      "cell_type": "code",
      "metadata": {
        "id": "inLYR3K9dwnS",
        "colab_type": "code",
        "colab": {}
      },
      "source": [
        "#class_names denoe the abstract classes used for this classification\n",
        "class_names = ['Abstract', 'Biker', 'Camouflage', 'Checked', 'Colourblocked', 'Conversational', 'Floral', 'Geometric', 'Graphic', 'Humour and Comic', 'Music', 'People and Places', 'Polka Dots', 'Self Design', 'Solid', 'Sports', 'Sports and Team Jersey', 'Striped', 'Superhero', 'Tie and Dye', 'Tribal', 'Typography', 'Varsity']\n"
      ],
      "execution_count": null,
      "outputs": []
    },
    {
      "cell_type": "code",
      "metadata": {
        "id": "dSVRs0y6P7KR",
        "colab_type": "code",
        "colab": {}
      },
      "source": [
        "#load the trained model and cjeck the baseline\n",
        "loaded_model = tf.keras.models.load_model(root_dir + 'DianaSaved_model/t-shirt-classifier')\n",
        "loaded_model.summary()\n"
      ],
      "execution_count": null,
      "outputs": []
    },
    {
      "cell_type": "code",
      "metadata": {
        "id": "zmLuiWYfUDu9",
        "colab_type": "code",
        "colab": {}
      },
      "source": [
        "#load and preprocess stage_3.json as the input in data\n",
        "file = open(root_dir + 'json_data/stage_2.json')\n",
        "data = json.load(file)\n",
        "data[0]['detail']"
      ],
      "execution_count": null,
      "outputs": []
    },
    {
      "cell_type": "code",
      "metadata": {
        "id": "tzLztChCWFAy",
        "colab_type": "code",
        "colab": {}
      },
      "source": [
        "#downloads the resizes an image from a given url according to our needs\n",
        "def download_and_resize(url , id , image_height=224 , image_width = 224 , display = False):\n",
        "  downloaded_image = tf.keras.utils.get_file('/tmp/image_' + str(id) + '.jpg',url)\n",
        "  downloaded_image = Image.open(downloaded_image).resize((image_height,image_width))\n",
        "  downloaded_image = np.array(downloaded_image)/255.0\n",
        "  return downloaded_image\n",
        "\n"
      ],
      "execution_count": null,
      "outputs": []
    },
    {
      "cell_type": "code",
      "metadata": {
        "id": "apfC9ZIKaglN",
        "colab_type": "code",
        "colab": {}
      },
      "source": [
        "#predict the class_names used on the downloaded image batch\n",
        "def predict_type_string(image):\n",
        "  result = loaded_model.predict(image[np.newaxis, ...])\n",
        "  predicted_class = np.argmax(result[0], axis=-1)\n",
        "  return class_names[predicted_class]\n"
      ],
      "execution_count": null,
      "outputs": []
    },
    {
      "cell_type": "code",
      "metadata": {
        "id": "ynE1UYMKZYwC",
        "colab_type": "code",
        "colab": {}
      },
      "source": [
        "#main functon starts here t runs a for loop for all the elements in stage_2.json and adds the color attribue \n",
        "for item in data:\n",
        "  color_type_string =  predict_type_string(download_and_resize(item['image'],item['id']))\n",
        "  color_object = {\"color\" : [color_type_string] }\n",
        "  item['detail'].update(color_object)\n",
        "  print(item['detail'])\n",
        "  #print( predict_type_string(download_and_resize(item['image'],item['id'])))"
      ],
      "execution_count": null,
      "outputs": []
    },
    {
      "cell_type": "code",
      "metadata": {
        "id": "TnOK0MyyjtP0",
        "colab_type": "code",
        "colab": {}
      },
      "source": [
        "#save the updated json\n",
        "with open(root_dir + 'json_data/stage_3.json' , 'w') as file_upload:\n",
        "  json.dump(data,file_upload, indent= 4)\n",
        "  file.close()\n",
        "\n",
        "\n"
      ],
      "execution_count": null,
      "outputs": []
    }
  ]
}