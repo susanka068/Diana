{
 "cells": [
  {
   "cell_type": "code",
   "execution_count": null,
   "metadata": {},
   "outputs": [],
   "source": [
    "from selenium import webdriver\n",
    "from selenium.common.exceptions import TimeoutException\n",
    "from selenium.webdriver.support.ui import WebDriverWait\n",
    "from selenium.webdriver.support import expected_conditions as EC\n",
    "from selenium.webdriver.common.by import By\n",
    "\n",
    "from time import sleep\n",
    "from re import findall\n",
    "from random import randint\n",
    "import json\n",
    "from urllib.request import urlretrieve"
   ]
  },
  {
   "cell_type": "code",
   "execution_count": null,
   "metadata": {},
   "outputs": [],
   "source": [
    "# Get webpage details\n",
    "def get_resource(driver, url):\n",
    "    driver.get(url)\n",
    "    return driver"
   ]
  },
  {
   "cell_type": "code",
   "execution_count": null,
   "metadata": {},
   "outputs": [],
   "source": [
    "# Load the entire page\n",
    "def load_fullpage(driver):\n",
    "    for i in range(1, 10):\n",
    "        sleep(0.4)\n",
    "        height = 1080*i\n",
    "        driver.execute_script(\"window.scrollTo(\"+ str(height - 1080)+ \",\"+ str(height)+\");\")\n",
    "        new_height = driver.execute_script(\"return document.body.scrollHeight\")\n",
    "        if new_height == height*(i-1):\n",
    "            break"
   ]
  },
  {
   "cell_type": "code",
   "execution_count": null,
   "metadata": {},
   "outputs": [],
   "source": [
    "# Extract links to all the articles in a page\n",
    "def extract_article_links(driver):\n",
    "    xpath = '//*[@id=\"product-results-view\"]/div/div[2]/div/section/div/article/h3/a'\n",
    "    wait_for_page_to_load(driver, xpath)\n",
    "    \n",
    "    art_links = driver.find_elements_by_xpath(xpath)\n",
    "    \n",
    "    links = []\n",
    "    for link in art_links:\n",
    "        links.append(link.get_attribute('href'))\n",
    "    return links"
   ]
  },
  {
   "cell_type": "code",
   "execution_count": null,
   "metadata": {},
   "outputs": [],
   "source": [
    "# Find total number of pages for a product\n",
    "def get_total_pagecount(driver):\n",
    "    xpath = '//*[@id=\"product-results-view\"]/div/div[2]/div/section/footer/ul/li[1]/ul'\n",
    "    wait_for_page_to_load(driver, xpath)\n",
    "    \n",
    "    nextpages = driver.find_element_by_xpath(xpath).find_elements_by_tag_name('a')\n",
    "    \n",
    "    lastpage_link = nextpages[-1].get_attribute('href')\n",
    "    last_pagenum = findall(r'[^\\d]+(\\d+)', lastpage_link)[-1]\n",
    "    \n",
    "    return int(last_pagenum)"
   ]
  },
  {
   "cell_type": "code",
   "execution_count": null,
   "metadata": {},
   "outputs": [],
   "source": [
    "# Get title of an article\n",
    "def get_title_of_article(driver):\n",
    "    xpath = ('//*[@id=\"product-page-product-title-lockup\"]/div/h1')\n",
    "    wait_for_page_to_load(driver, xpath)\n",
    "    \n",
    "    title_elem = driver.find_element_by_xpath(xpath)\n",
    "    \n",
    "    return title_elem.text"
   ]
  },
  {
   "cell_type": "code",
   "execution_count": null,
   "metadata": {},
   "outputs": [],
   "source": [
    "# Get details of a product\n",
    "def get_article_details(driver):\n",
    "    details = []\n",
    "    \n",
    "    xpath_for_description = '//*[@id=\"layer-0\"]/div/div[1]/div[2]/div[2]/div[1]/div/div/div/*/div/div[2]/p'\n",
    "    wait_for_page_to_load(driver, xpath_for_description)\n",
    "    details.append(driver.find_element_by_xpath(xpath_for_description).text)\n",
    "    \n",
    "    xpath_for_details = '//*[@id=\"layer-0\"]/div/div[1]/div[2]/div[2]/div[1]/div/div/div/div[2]/div/ul/*/span'\n",
    "    details_elem = driver.find_elements_by_xpath(xpath_for_details)\n",
    "    \n",
    "    for elem in details_elem:\n",
    "        details.append(elem.text)\n",
    "    \n",
    "    return details"
   ]
  },
  {
   "cell_type": "code",
   "execution_count": null,
   "metadata": {},
   "outputs": [],
   "source": [
    "# Get rating of a product\n",
    "def get_product_rating_div(driver):\n",
    "    rating_div = {}\n",
    "    \n",
    "    xpath = '//*[@id=\"reviews\"]/section/div[1]/header/div/div[2]/*/span[3]'\n",
    "    wait_for_page_to_load(driver, xpath)\n",
    "    rating_elem = driver.find_elements_by_xpath(xpath)\n",
    "    \n",
    "    rating = 5\n",
    "    for elem in rating_elem :\n",
    "        rating_div[rating] = int(elem.text[0:-1])\n",
    "        rating -= 1\n",
    "    \n",
    "    return rating_div"
   ]
  },
  {
   "cell_type": "code",
   "execution_count": null,
   "metadata": {},
   "outputs": [],
   "source": [
    "# Get image-url\n",
    "def get_image_url(driver):\n",
    "    xpath1 = '//*[@id=\"product-page-main-gallery-image\"]/picture/img'\n",
    "    xpath2 = '//*[@id=\"product-page-main-gallery-image\"]/img'\n",
    "    try :\n",
    "        url = driver.find_element_by_xpath(xpath1).get_attribute('src')\n",
    "    except :\n",
    "        url = driver.find_element_by_xpath(xpath2).get_attribute('src')\n",
    "    return url"
   ]
  },
  {
   "cell_type": "code",
   "execution_count": null,
   "metadata": {},
   "outputs": [],
   "source": [
    "# Get total number of pages with comments\n",
    "def get_total_comment_pages(driver):\n",
    "    xpath = '//*[@id=\"reviews\"]/section/ul/li[1]/ul/li/a'\n",
    "    pages = driver.find_elements_by_xpath(xpath)\n",
    "    return int(pages[-1].text)"
   ]
  },
  {
   "cell_type": "code",
   "execution_count": null,
   "metadata": {},
   "outputs": [],
   "source": [
    "# Get comments on a page\n",
    "def get_comments(driver, comment_list):\n",
    "    xpath_for_reviews = '//*[@id=\"reviews\"]/section/div[3]/div'\n",
    "    tag_for_comment_heading = 'strong'\n",
    "    xpath_for_comment_body = './*/div[1]/div[1]'\n",
    "    xpath_for_date = './*/div[2]/span'\n",
    "    \n",
    "    reviews_elem = driver.find_elements_by_xpath(xpath_for_reviews)\n",
    "    \n",
    "    for review in reviews_elem:\n",
    "        new_comment = {}\n",
    "        new_comment['heading'] = review.find_element_by_tag_name(tag_for_comment_heading).text\n",
    "        new_comment['body'] = review.find_element_by_xpath(xpath_for_comment_body).text\n",
    "        new_comment['date'] = review.find_element_by_xpath(xpath_for_date).text\n",
    "        \n",
    "        comment_list.append(new_comment)"
   ]
  },
  {
   "cell_type": "code",
   "execution_count": null,
   "metadata": {},
   "outputs": [],
   "source": [
    "# Wait for xpath of a page to load\n",
    "def wait_for_page_to_load(driver, xpath):\n",
    "    timeout = 2\n",
    "    retries = 1\n",
    "    while retries <= 7:\n",
    "        try:\n",
    "            element_present = EC.presence_of_element_located((By.XPATH, xpath))\n",
    "            WebDriverWait(driver, timeout).until(element_present)\n",
    "            break\n",
    "        except:\n",
    "            driver.refresh()\n",
    "            retries += 1"
   ]
  },
  {
   "cell_type": "code",
   "execution_count": null,
   "metadata": {},
   "outputs": [],
   "source": [
    "#Constants\n",
    "DRIVER_PATH = \"/usr/bin/chromedriver\"\n",
    "PATH_FILE = \"./\"\n",
    "BASE_URL = \"https://www.nordstrom.com/sr?keyword=\"\n",
    "driver = webdriver.Chrome(executable_path=DRIVER_PATH)"
   ]
  },
  {
   "cell_type": "code",
   "execution_count": null,
   "metadata": {},
   "outputs": [],
   "source": [
    "# Ask for the name of the product\n",
    "print(\"Enter name of product :: \")\n",
    "product = input()\n",
    "\n",
    "# Open a json file\n",
    "out_file = open(PATH_FILE + \"nordstrom-\" + product + \".json\", \"wb\")\n",
    "out_file.write(str(\"[\\n\").encode('utf-8'))\n",
    "URL = BASE_URL + product\n",
    "\n",
    "# Get a driver for URL\n",
    "driver = get_resource(driver, URL)\n",
    "sleep(10)\n",
    "load_fullpage(driver)\n",
    "\n",
    "# Get total number of pages for this product\n",
    "totalpages = get_total_pagecount(driver)\n",
    "\n",
    "# Keep track of id\n",
    "id = 1\n",
    "\n",
    "#Now for each page for a product\n",
    "for page_no in range (1, totalpages+1):\n",
    "    page_url = URL + \"&page=\" + str(page_no)\n",
    "    \n",
    "    driver = get_resource(driver, page_url)    \n",
    "    article_links = extract_article_links(driver)\n",
    "    \n",
    "    # For each article link\n",
    "    for link in article_links:\n",
    "        driver = get_resource(driver, link)        \n",
    "        new_article = {}\n",
    "        \n",
    "        new_article['id'] = id\n",
    "        new_article['title'] = get_title_of_article(driver)\n",
    "        \n",
    "        load_fullpage(driver)\n",
    "        \n",
    "        new_article['details'] = get_article_details(driver)\n",
    "        new_article['rating_div'] = get_product_rating_div(driver)\n",
    "\n",
    "        new_article['image'] = get_image_url(driver)\n",
    "\n",
    "        new_article['comments'] = []\n",
    "        try:\n",
    "            total_comment_page_count = get_total_comment_pages(driver)\n",
    "            \n",
    "            # read comments for each item\n",
    "            for page_no in range(1, min(3, total_comment_page_count)):\n",
    "                load_fullpage(driver)            \n",
    "                get_comments(driver, new_article['comments'])\n",
    "                # Go to the comment path\n",
    "                xpath = '//*/a[@href=\"?page='+str(page_no+1) + '\"]'\n",
    "                page_elem = driver.find_element_by_xpath(xpath)\n",
    "                page_elem.click()\n",
    "        except:\n",
    "            pass\n",
    "        \n",
    "        # Write the data maintaining json structure\n",
    "        if id != 1 :\n",
    "            out_file.seek(-1, 1)\n",
    "            out_file.write(str(\",\\n\").encode('utf-8'))\n",
    "        to_write = json.dumps(new_article, indent = 4)\n",
    "        to_write += \"]\"\n",
    "        out_file.write(to_write.encode('utf-8'))\n",
    "        id = id + 1\n",
    "        print(str(id-1) + \" finished\")\n",
    "        \n",
    "        # Hit the stop button to pause"
   ]
  },
  {
   "cell_type": "code",
   "execution_count": null,
   "metadata": {},
   "outputs": [],
   "source": []
  }
 ],
 "metadata": {
  "kernelspec": {
   "display_name": "Python 3",
   "language": "python",
   "name": "python3"
  },
  "language_info": {
   "codemirror_mode": {
    "name": "ipython",
    "version": 3
   },
   "file_extension": ".py",
   "mimetype": "text/x-python",
   "name": "python",
   "nbconvert_exporter": "python",
   "pygments_lexer": "ipython3",
   "version": "3.8.3"
  }
 },
 "nbformat": 4,
 "nbformat_minor": 4
}
